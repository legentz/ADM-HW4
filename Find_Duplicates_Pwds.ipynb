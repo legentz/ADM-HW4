{
 "cells": [
  {
   "cell_type": "code",
   "execution_count": 9,
   "metadata": {},
   "outputs": [],
   "source": [
    "# from hashtable import HashTable"
   ]
  },
  {
   "cell_type": "code",
   "execution_count": 10,
   "metadata": {},
   "outputs": [],
   "source": [
    "from math import ceil\n",
    "import sys \n",
    "\n",
    "# really simple hash function\n",
    "def hash_no_order(key):\n",
    "    return sum([ord(k) for k in key])\n",
    "\n",
    "# hash with order\n",
    "def radix128(key):\n",
    "    x = 0\n",
    "    for i in range(len(key)):\n",
    "        ascii_code = ord(key[i])\n",
    "        x = 128 * x + ascii_code\n",
    "    return x"
   ]
  },
  {
   "cell_type": "code",
   "execution_count": 11,
   "metadata": {},
   "outputs": [
    {
     "name": "stdout",
     "output_type": "stream",
     "text": [
      "1591\n",
      "1591\n",
      "1591\n",
      "1600\n",
      "866425317498053195921497434040904772587844\n",
      "866425317498053195921497434040904772587844\n",
      "866085035131132257458034059433473004376392\n",
      "866085019554241681853551173841984041881928\n"
     ]
    }
   ],
   "source": [
    "# check if hash functions are working...\n",
    "\n",
    "# hash_no_order\n",
    "print(hash_no_order('OHcv-/U3QI$rdqYTef\"D'))\n",
    "print(hash_no_order('OHcv-/U3QI$rdqYTef\"D'))\n",
    "print(hash_no_order('ODcv-/U3QI$rdqYTef\"H')) # order is different!\n",
    "print(hash_no_order('ODcs-/U3QI$rdqYTqf\"H')) # order and content are different!\n",
    "\n",
    "# hash_order\n",
    "print(radix128('OHcv-/U3QI$rdqYTef\"D'))\n",
    "print(radix128('OHcv-/U3QI$rdqYTef\"D'))\n",
    "print(radix128('ODcv-/U3QI$rdqYTef\"H')) # order is different!\n",
    "print(radix128('ODcs-/U3QI$rdqYTqf\"H')) # order and content are different!"
   ]
  },
  {
   "cell_type": "code",
   "execution_count": 12,
   "metadata": {},
   "outputs": [],
   "source": [
    "# this string comparator could be userd to compare strings\n",
    "# and test them whether they contain the same chars\n",
    "def str_compare(str1, str2):\n",
    "    \n",
    "    # length has to be the same\n",
    "    if len(str1) != len(str2):\n",
    "        return False\n",
    "    \n",
    "    # convert to list of chars\n",
    "    str1_l, str2_l = list(str1), list(str2)\n",
    "    \n",
    "    # compare them!\n",
    "    for char in str1_l:\n",
    "        if not char in str2_l:\n",
    "            return False\n",
    "    return True"
   ]
  },
  {
   "cell_type": "markdown",
   "metadata": {},
   "source": [
    "## Considerations \n",
    "\n",
    "At first, we tried to use an HashTable (the code is available in this repo anyway). How it can be guessed, the hash table was not a good solution due to its memory usage. The password file in analysis is composed of just over 110M items... that's huge!\n",
    "It could be adapted to this Hashmap logic where, instead of a key-value, a simple counter would be stored.\n",
    "\n",
    "Hash collisions are more avoidable once its size is being increased."
   ]
  },
  {
   "cell_type": "code",
   "execution_count": 27,
   "metadata": {},
   "outputs": [
    {
     "name": "stdout",
     "output_type": "stream",
     "text": [
      "duplicates 0 false_positives 26839\n"
     ]
    }
   ],
   "source": [
    "pwd_store = [None] * 10000000\n",
    "false_p, duplic = 0, 0\n",
    "\n",
    "with open('./data/passwords2.txt', 'r', encoding='utf8') as pwd:\n",
    "    for line, p in enumerate(pwd, start=1):\n",
    "\n",
    "        # exit\n",
    "        if (line % 2000000) == 0:\n",
    "            print('duplicates', duplic, 'false_positives', false_p)\n",
    "            break\n",
    "        \n",
    "        p = p.strip().rstrip('\\n')\n",
    "        hash_p = radix128(p) % 10000000\n",
    "        \n",
    "        if pwd_store[hash_p] is None: pwd_store[hash_p] = {}\n",
    "        \n",
    "        if p in pwd_store[hash_p]:\n",
    "            pwd_store[hash_p][p] += 1\n",
    "            duplic += 1\n",
    "            \n",
    "        else:\n",
    "            if len(pwd_store[hash_p]) > 1: false_p += 1\n",
    "            pwd_store[hash_p][p] = 1\n",
    "            "
   ]
  },
  {
   "cell_type": "code",
   "execution_count": 28,
   "metadata": {},
   "outputs": [
    {
     "name": "stdout",
     "output_type": "stream",
     "text": [
      "duplicates 0 false_positives 1998299\n"
     ]
    }
   ],
   "source": [
    "pwd_store = [None] * 10000000\n",
    "false_p, duplic = 0, 0\n",
    "\n",
    "with open('./data/passwords2.txt', 'r', encoding='utf8') as pwd:\n",
    "    for line, p in enumerate(pwd, start=1):\n",
    "\n",
    "        # exit\n",
    "        if (line % 2000000) == 0:\n",
    "            print('duplicates', duplic, 'false_positives', false_p)\n",
    "            break\n",
    "        \n",
    "        p = p.strip().rstrip('\\n')\n",
    "        hash_p = hash_no_order(p) % 10000000\n",
    "        \n",
    "        if pwd_store[hash_p] is None: pwd_store[hash_p] = {}\n",
    "        \n",
    "        if p in pwd_store[hash_p]:\n",
    "            pwd_store[hash_p][p] += 1\n",
    "            duplic += 1\n",
    "            \n",
    "        else:\n",
    "            if len(pwd_store[hash_p]) > 1: false_p += 1\n",
    "            pwd_store[hash_p][p] = 1\n",
    "            "
   ]
  },
  {
   "cell_type": "markdown",
   "metadata": {},
   "source": [
    "We could have approached another method: Bloom Filter.\n",
    "\n",
    "This method is still really used in real life contexts (ex. Quora uses it to filter users' feeds). Basically, it works like as explained on the website we learnt it from: [Bloom Filter](https://www.geeksforgeeks.org/bloom-filters-introduction-and-python-implementation/). Finally, it'd have been really optimized in terms of memory consumption as it uses a bitearray."
   ]
  }
 ],
 "metadata": {
  "kernelspec": {
   "display_name": "Python 3",
   "language": "python",
   "name": "python3"
  },
  "language_info": {
   "codemirror_mode": {
    "name": "ipython",
    "version": 3
   },
   "file_extension": ".py",
   "mimetype": "text/x-python",
   "name": "python",
   "nbconvert_exporter": "python",
   "pygments_lexer": "ipython3",
   "version": "3.7.0"
  }
 },
 "nbformat": 4,
 "nbformat_minor": 2
}
