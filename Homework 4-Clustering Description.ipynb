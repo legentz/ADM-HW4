{
 "cells": [
  {
   "cell_type": "markdown",
   "metadata": {},
   "source": [
    "### Clustering on the Description dataset "
   ]
  },
  {
   "cell_type": "code",
   "execution_count": 2,
   "metadata": {},
   "outputs": [],
   "source": [
    "import numpy as np \n",
    "import pandas as pd \n",
    "from sklearn.preprocessing import MinMaxScaler\n",
    "from sklearn.metrics import silhouette_score\n",
    "from sklearn.cluster import MiniBatchKMeans\n",
    "import matplotlib.pyplot as plt\n",
    "from loader import Loader"
   ]
  },
  {
   "cell_type": "code",
   "execution_count": 5,
   "metadata": {},
   "outputs": [],
   "source": [
    "data_loader = Loader(csv=['description-dataset-with-header.tsv'], separator='\\t', nrows=200, chunksize=200).iterate()"
   ]
  },
  {
   "cell_type": "code",
   "execution_count": 6,
   "metadata": {},
   "outputs": [
    {
     "name": "stdout",
     "output_type": "stream",
     "text": [
      "                id  portuens     piana      sole       via   bergolo  \\\n",
      "19443209  0.015732  0.028596  0.018229  0.002062  0.017545  0.024626   \n",
      "20698481  0.000000  0.000000  0.000000  0.000000  0.000000  0.000000   \n",
      "21929101  0.000000  0.000000  0.000000  0.000000  0.000000  0.000000   \n",
      "24894425  0.000000  0.000000  0.000000  0.001616  0.000000  0.019294   \n",
      "25773866  0.000000  0.000000  0.000000  0.002702  0.000000  0.000000   \n",
      "\n",
      "            ultima  disponibilita   bilocal     piano    ...     \\\n",
      "19443209  0.019524       0.009711  0.001118  0.003957    ...      \n",
      "20698481  0.000000       0.000000  0.002451  0.000000    ...      \n",
      "21929101  0.000000       0.000000  0.001499  0.000000    ...      \n",
      "24894425  0.000000       0.000000  0.000000  0.000000    ...      \n",
      "25773866  0.000000       0.000000  0.002197  0.015554    ...      \n",
      "\n",
      "          finestragrazi  predispozion  mestosa  wolkonskyin  ditribuisc  \\\n",
      "19443209            0.0           0.0      0.0          0.0         0.0   \n",
      "20698481            0.0           0.0      0.0          0.0         0.0   \n",
      "21929101            0.0           0.0      0.0          0.0         0.0   \n",
      "24894425            0.0           0.0      0.0          0.0         0.0   \n",
      "25773866            0.0           0.0      0.0          0.0         0.0   \n",
      "\n",
      "          cappellini  quartirr  colleato  attivar  oldenico  \n",
      "19443209         0.0       0.0       0.0      0.0       NaN  \n",
      "20698481         0.0       0.0       0.0      0.0       NaN  \n",
      "21929101         0.0       0.0       0.0      0.0       NaN  \n",
      "24894425         0.0       0.0       0.0      0.0       NaN  \n",
      "25773866         0.0       0.0       0.0      0.0       NaN  \n",
      "\n",
      "[5 rows x 28087 columns]\n"
     ]
    }
   ],
   "source": [
    "for d in data_loader:\n",
    "    km = MiniBatchKMeans(batch_size=200, init='k-means++').fit(d)"
   ]
  },
  {
   "cell_type": "code",
   "execution_count": 10,
   "metadata": {},
   "outputs": [
    {
     "ename": "AttributeError",
     "evalue": "'generator' object has no attribute 'drop'",
     "output_type": "error",
     "traceback": [
      "\u001b[0;31m---------------------------------------------------------------------------\u001b[0m",
      "\u001b[0;31mAttributeError\u001b[0m                            Traceback (most recent call last)",
      "\u001b[0;32m<ipython-input-10-8251b550d6ae>\u001b[0m in \u001b[0;36m<module>\u001b[0;34m()\u001b[0m\n\u001b[1;32m      1\u001b[0m \u001b[0;31m#drop annoucements\u001b[0m\u001b[0;34m\u001b[0m\u001b[0;34m\u001b[0m\u001b[0m\n\u001b[0;32m----> 2\u001b[0;31m \u001b[0minfo_data\u001b[0m \u001b[0;34m=\u001b[0m \u001b[0md\u001b[0m\u001b[0;34m.\u001b[0m\u001b[0mdrop\u001b[0m\u001b[0;34m(\u001b[0m\u001b[0;34m\"id\"\u001b[0m\u001b[0;34m,\u001b[0m \u001b[0;36m1\u001b[0m\u001b[0;34m)\u001b[0m\u001b[0;34m\u001b[0m\u001b[0m\n\u001b[0m",
      "\u001b[0;31mAttributeError\u001b[0m: 'generator' object has no attribute 'drop'"
     ]
    }
   ],
   "source": [
    "#drop annoucements \n",
    "info_data = d.drop(\"id\", 1)"
   ]
  },
  {
   "cell_type": "code",
   "execution_count": 7,
   "metadata": {},
   "outputs": [
    {
     "data": {
      "text/html": [
       "<div>\n",
       "<style scoped>\n",
       "    .dataframe tbody tr th:only-of-type {\n",
       "        vertical-align: middle;\n",
       "    }\n",
       "\n",
       "    .dataframe tbody tr th {\n",
       "        vertical-align: top;\n",
       "    }\n",
       "\n",
       "    .dataframe thead th {\n",
       "        text-align: right;\n",
       "    }\n",
       "</style>\n",
       "<table border=\"1\" class=\"dataframe\">\n",
       "  <thead>\n",
       "    <tr style=\"text-align: right;\">\n",
       "      <th></th>\n",
       "      <th>price</th>\n",
       "      <th>locali</th>\n",
       "      <th>super ficie</th>\n",
       "      <th>bagni</th>\n",
       "      <th>piano</th>\n",
       "    </tr>\n",
       "  </thead>\n",
       "  <tbody>\n",
       "    <tr>\n",
       "      <th>0</th>\n",
       "      <td>149000</td>\n",
       "      <td>3</td>\n",
       "      <td>65</td>\n",
       "      <td>2</td>\n",
       "      <td>0</td>\n",
       "    </tr>\n",
       "    <tr>\n",
       "      <th>1</th>\n",
       "      <td>190000</td>\n",
       "      <td>4</td>\n",
       "      <td>145</td>\n",
       "      <td>1</td>\n",
       "      <td>2</td>\n",
       "    </tr>\n",
       "    <tr>\n",
       "      <th>2</th>\n",
       "      <td>630000</td>\n",
       "      <td>5</td>\n",
       "      <td>200</td>\n",
       "      <td>2</td>\n",
       "      <td>4</td>\n",
       "    </tr>\n",
       "    <tr>\n",
       "      <th>3</th>\n",
       "      <td>470000</td>\n",
       "      <td>5</td>\n",
       "      <td>211</td>\n",
       "      <td>3</td>\n",
       "      <td>0</td>\n",
       "    </tr>\n",
       "    <tr>\n",
       "      <th>4</th>\n",
       "      <td>300000</td>\n",
       "      <td>3</td>\n",
       "      <td>92</td>\n",
       "      <td>1</td>\n",
       "      <td>0</td>\n",
       "    </tr>\n",
       "  </tbody>\n",
       "</table>\n",
       "</div>"
      ],
      "text/plain": [
       "    price  locali  super ficie  bagni  piano\n",
       "0  149000       3           65      2      0\n",
       "1  190000       4          145      1      2\n",
       "2  630000       5          200      2      4\n",
       "3  470000       5          211      3      0\n",
       "4  300000       3           92      1      0"
      ]
     },
     "execution_count": 7,
     "metadata": {},
     "output_type": "execute_result"
    }
   ],
   "source": [
    "info_data.head()"
   ]
  },
  {
   "cell_type": "code",
   "execution_count": 8,
   "metadata": {},
   "outputs": [
    {
     "data": {
      "text/html": [
       "<div>\n",
       "<style scoped>\n",
       "    .dataframe tbody tr th:only-of-type {\n",
       "        vertical-align: middle;\n",
       "    }\n",
       "\n",
       "    .dataframe tbody tr th {\n",
       "        vertical-align: top;\n",
       "    }\n",
       "\n",
       "    .dataframe thead th {\n",
       "        text-align: right;\n",
       "    }\n",
       "</style>\n",
       "<table border=\"1\" class=\"dataframe\">\n",
       "  <thead>\n",
       "    <tr style=\"text-align: right;\">\n",
       "      <th></th>\n",
       "      <th>price</th>\n",
       "      <th>locali</th>\n",
       "      <th>super ficie</th>\n",
       "      <th>bagni</th>\n",
       "      <th>piano</th>\n",
       "    </tr>\n",
       "  </thead>\n",
       "  <tbody>\n",
       "    <tr>\n",
       "      <th>0</th>\n",
       "      <td>149000</td>\n",
       "      <td>3</td>\n",
       "      <td>65</td>\n",
       "      <td>2</td>\n",
       "      <td>0</td>\n",
       "    </tr>\n",
       "    <tr>\n",
       "      <th>1</th>\n",
       "      <td>190000</td>\n",
       "      <td>4</td>\n",
       "      <td>145</td>\n",
       "      <td>1</td>\n",
       "      <td>2</td>\n",
       "    </tr>\n",
       "    <tr>\n",
       "      <th>2</th>\n",
       "      <td>630000</td>\n",
       "      <td>5</td>\n",
       "      <td>200</td>\n",
       "      <td>2</td>\n",
       "      <td>4</td>\n",
       "    </tr>\n",
       "    <tr>\n",
       "      <th>3</th>\n",
       "      <td>470000</td>\n",
       "      <td>5</td>\n",
       "      <td>211</td>\n",
       "      <td>3</td>\n",
       "      <td>0</td>\n",
       "    </tr>\n",
       "    <tr>\n",
       "      <th>4</th>\n",
       "      <td>300000</td>\n",
       "      <td>3</td>\n",
       "      <td>92</td>\n",
       "      <td>1</td>\n",
       "      <td>0</td>\n",
       "    </tr>\n",
       "  </tbody>\n",
       "</table>\n",
       "</div>"
      ],
      "text/plain": [
       "    price  locali  super ficie  bagni  piano\n",
       "0  149000       3           65      2      0\n",
       "1  190000       4          145      1      2\n",
       "2  630000       5          200      2      4\n",
       "3  470000       5          211      3      0\n",
       "4  300000       3           92      1      0"
      ]
     },
     "execution_count": 8,
     "metadata": {},
     "output_type": "execute_result"
    }
   ],
   "source": [
    "#preprocess dataset\n",
    "# info_data = info_data[info_data.piano != \"T\"]\n",
    "# info_data = info_data[info_data.piano != \"A\"]\n",
    "# info_data = info_data[info_data.piano != \"R\"]\n",
    "# info_data = info_data[info_data.piano != \"S\"]\n",
    "# info_data = info_data[info_data.piano != \"11+\"]\n",
    "# info_data = info_data[info_data.locali != \"3+\"]\n",
    "# info_data = info_data[info_data.locali != \"5+\"]\n",
    "# info_data = info_data[info_data.bagni != \"3+\"]\n",
    "info_data.head()"
   ]
  },
  {
   "cell_type": "code",
   "execution_count": 9,
   "metadata": {},
   "outputs": [
    {
     "data": {
      "text/plain": [
       "20013"
      ]
     },
     "execution_count": 9,
     "metadata": {},
     "output_type": "execute_result"
    }
   ],
   "source": [
    "len(info_data)"
   ]
  },
  {
   "cell_type": "code",
   "execution_count": 10,
   "metadata": {},
   "outputs": [],
   "source": [
    "#converting information dataset into matrix"
   ]
  },
  {
   "cell_type": "code",
   "execution_count": 11,
   "metadata": {},
   "outputs": [],
   "source": [
    "info_mat = info_data.as_matrix(columns = None)"
   ]
  },
  {
   "cell_type": "code",
   "execution_count": 12,
   "metadata": {},
   "outputs": [
    {
     "data": {
      "text/plain": [
       "array([[149000,      3,     65,      2,      0],\n",
       "       [190000,      4,    145,      1,      2],\n",
       "       [630000,      5,    200,      2,      4],\n",
       "       ...,\n",
       "       [155000,      4,    125,      1,      3],\n",
       "       [228000,      3,     83,      1,      3],\n",
       "       [142000,      3,     90,      1,      3]])"
      ]
     },
     "execution_count": 12,
     "metadata": {},
     "output_type": "execute_result"
    }
   ],
   "source": [
    "info_mat"
   ]
  },
  {
   "cell_type": "code",
   "execution_count": 16,
   "metadata": {},
   "outputs": [
    {
     "name": "stderr",
     "output_type": "stream",
     "text": [
      "/Users/dzidziquist/anaconda3/lib/python3.6/site-packages/sklearn/utils/validation.py:475: DataConversionWarning: Data with input dtype int64 was converted to float64 by MinMaxScaler.\n",
      "  warnings.warn(msg, DataConversionWarning)\n"
     ]
    },
    {
     "data": {
      "text/plain": [
       "array([[2.29229231e-04, 5.00000000e-01, 2.32728119e-04, 5.00000000e-01,\n",
       "        7.69230769e-02],\n",
       "       [2.92306154e-04, 7.50000000e-01, 5.23638268e-04, 0.00000000e+00,\n",
       "        2.30769231e-01],\n",
       "       [9.69229232e-04, 1.00000000e+00, 7.23638995e-04, 5.00000000e-01,\n",
       "        3.84615385e-01],\n",
       "       ...,\n",
       "       [2.38460000e-04, 7.50000000e-01, 4.50910731e-04, 0.00000000e+00,\n",
       "        3.07692308e-01],\n",
       "       [3.50767693e-04, 5.00000000e-01, 2.98182902e-04, 0.00000000e+00,\n",
       "        3.07692308e-01],\n",
       "       [2.18460000e-04, 5.00000000e-01, 3.23637541e-04, 0.00000000e+00,\n",
       "        3.07692308e-01]])"
      ]
     },
     "execution_count": 16,
     "metadata": {},
     "output_type": "execute_result"
    }
   ],
   "source": [
    "#clustering \n",
    "mms = MinMaxScaler()\n",
    "mms.fit(info_mat)\n",
    "data_transformed = mms.transform(info_mat)\n",
    "data_transformed"
   ]
  },
  {
   "cell_type": "code",
   "execution_count": 23,
   "metadata": {},
   "outputs": [
    {
     "name": "stdout",
     "output_type": "stream",
     "text": [
      "For n_clusters=2, The Silhouette Coefficient is 0.47487920943642115\n",
      "For n_clusters=3, The Silhouette Coefficient is 0.5136579421927815\n",
      "For n_clusters=4, The Silhouette Coefficient is 0.5102460586130626\n",
      "For n_clusters=5, The Silhouette Coefficient is 0.48446957377144473\n",
      "For n_clusters=6, The Silhouette Coefficient is 0.5032843504330616\n",
      "For n_clusters=7, The Silhouette Coefficient is 0.5090314477346991\n",
      "For n_clusters=8, The Silhouette Coefficient is 0.5016294071356179\n",
      "For n_clusters=9, The Silhouette Coefficient is 0.4617532891431688\n",
      "For n_clusters=10, The Silhouette Coefficient is 0.49900702486254944\n",
      "For n_clusters=11, The Silhouette Coefficient is 0.5219318121152503\n"
     ]
    }
   ],
   "source": [
    "Sum_of_squared_distances = []\n",
    "K = range(2,12)\n",
    "for k in K:\n",
    "    km = MiniBatchKMeans(n_clusters=k, batch_size=200)\n",
    "    km = km.fit(data_transformed)\n",
    "    Sum_of_squared_distances.append(km.inertia_)\n",
    "    label = km.labels_\n",
    "    sil_coeff = silhouette_score(data_transformed, label, metric='euclidean')\n",
    "    print(\"For n_clusters={}, The Silhouette Coefficient is {}\".format(k, sil_coeff))"
   ]
  },
  {
   "cell_type": "code",
   "execution_count": 20,
   "metadata": {},
   "outputs": [
    {
     "data": {
      "image/png": "[encoded data removed]",
      "text/plain": [
       "<matplotlib.figure.Figure at 0x10b8400b8>"
      ]
     },
     "metadata": {},
     "output_type": "display_data"
    }
   ],
   "source": [
    "plt.plot(K, Sum_of_squared_distances, 'bx-')\n",
    "plt.xlabel('k')\n",
    "plt.ylabel('Sum_of_squared_distances')\n",
    "plt.title('Elbow Method For Optimal k')\n",
    "plt.show()"
   ]
  },
  {
   "cell_type": "code",
   "execution_count": null,
   "metadata": {},
   "outputs": [],
   "source": [
    "Sum_of_squared_distances = []\n",
    "K = range(2,12)\n",
    "for k in K:\n",
    "    km = MiniBatchKMeans(n_clusters=k, batch_size=200)\n",
    "    km = km.fit(data_transformed)\n",
    "    Sum_of_squared_distances.append(km.inertia_)\n",
    "    label = km.labels_\n",
    "    sil_coeff = silhouette_score(data_transformed, label, metric='euclidean')\n",
    "    print(\"For n_clusters={}, The Silhouette Coefficient is {}\".format(k, sil_coeff))"
   ]
  }
 ],
 "metadata": {
  "kernelspec": {
   "display_name": "Python 3",
   "language": "python",
   "name": "python3"
  },
  "language_info": {
   "codemirror_mode": {
    "name": "ipython",
    "version": 3
   },
   "file_extension": ".py",
   "mimetype": "text/x-python",
   "name": "python",
   "nbconvert_exporter": "python",
   "pygments_lexer": "ipython3",
   "version": "3.7.0"
  }
 },
 "nbformat": 4,
 "nbformat_minor": 2
}
