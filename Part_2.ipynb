{
 "cells": [
  {
   "cell_type": "code",
   "execution_count": 9,
   "metadata": {},
   "outputs": [],
   "source": [
    "# from hashtable import HashTable"
   ]
  },
  {
   "cell_type": "code",
   "execution_count": 10,
   "metadata": {},
   "outputs": [],
   "source": [
    "from math import ceil\n",
    "import sys \n",
    "\n",
    "# really simple hash function\n",
    "def hash_no_order(key):\n",
    "    return sum([ord(k) for k in key])\n",
    "\n",
    "# hash with order\n",
    "def radix128(key):\n",
    "    x = 0\n",
    "    for i in range(len(key)):\n",
    "        ascii_code = ord(key[i])\n",
    "        x = 128 * x + ascii_code\n",
    "    return x"
   ]
  },
  {
   "cell_type": "code",
   "execution_count": 11,
   "metadata": {},
   "outputs": [
    {
     "name": "stdout",
     "output_type": "stream",
     "text": [
      "1591\n",
      "1591\n",
      "1591\n",
      "1600\n",
      "866425317498053195921497434040904772587844\n",
      "866425317498053195921497434040904772587844\n",
      "866085035131132257458034059433473004376392\n",
      "866085019554241681853551173841984041881928\n"
     ]
    }
   ],
   "source": [
    "# check if hash functions are working...\n",
    "\n",
    "# hash_no_order\n",
    "print(hash_no_order('OHcv-/U3QI$rdqYTef\"D'))\n",
    "print(hash_no_order('OHcv-/U3QI$rdqYTef\"D'))\n",
    "print(hash_no_order('ODcv-/U3QI$rdqYTef\"H')) # order is different!\n",
    "print(hash_no_order('ODcs-/U3QI$rdqYTqf\"H')) # order and content are different!\n",
    "\n",
    "# hash_order\n",
    "print(radix128('OHcv-/U3QI$rdqYTef\"D'))\n",
    "print(radix128('OHcv-/U3QI$rdqYTef\"D'))\n",
    "print(radix128('ODcv-/U3QI$rdqYTef\"H')) # order is different!\n",
    "print(radix128('ODcs-/U3QI$rdqYTqf\"H')) # order and content are different!"
   ]
  },
  {
   "cell_type": "code",
   "execution_count": 12,
   "metadata": {},
   "outputs": [],
   "source": [
    "# this string comparator could be userd to compare strings\n",
    "# and test them whether they contain the same chars\n",
    "def str_compare(str1, str2):\n",
    "    \n",
    "    # length has to be the same\n",
    "    if len(str1) != len(str2):\n",
    "        return False\n",
    "    \n",
    "    # convert to list of chars\n",
    "    str1_l, str2_l = list(str1), list(str2)\n",
    "    \n",
    "    # compare them!\n",
    "    for char in str1_l:\n",
    "        if not char in str2_l:\n",
    "            return False\n",
    "    return True"
   ]
  },
  {
   "cell_type": "markdown",
   "metadata": {},
   "source": [
    "## Considerations \n",
    "\n",
    "At first, we tried to use an HashTable (the code is available in this repo anyway). How it can be guessed, the hash table was not a good solution due to its memory usage. The password file in analysis is composed of just over 110M items... that's huge! So, we approached another method: Bloom Filter.\n",
    "\n",
    "This method is still really used in real life contexts (ex. Quora uses it to filter users' feeds). Basically, it works like int the following example.\n",
    "\n"
   ]
  },
  {
   "cell_type": "code",
   "execution_count": null,
   "metadata": {},
   "outputs": [],
   "source": []
  },
  {
   "cell_type": "code",
   "execution_count": null,
   "metadata": {},
   "outputs": [],
   "source": []
  }
 ],
 "metadata": {
  "kernelspec": {
   "display_name": "Python 3",
   "language": "python",
   "name": "python3"
  },
  "language_info": {
   "codemirror_mode": {
    "name": "ipython",
    "version": 3
   },
   "file_extension": ".py",
   "mimetype": "text/x-python",
   "name": "python",
   "nbconvert_exporter": "python",
   "pygments_lexer": "ipython3",
   "version": "3.7.0"
  }
 },
 "nbformat": 4,
 "nbformat_minor": 2
}
