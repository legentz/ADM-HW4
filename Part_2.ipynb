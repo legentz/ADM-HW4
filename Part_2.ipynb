{
 "cells": [
  {
   "cell_type": "code",
   "execution_count": 9,
   "metadata": {},
   "outputs": [],
   "source": [
    "# from hashtable import HashTable"
   ]
  },
  {
   "cell_type": "code",
   "execution_count": 284,
   "metadata": {},
   "outputs": [],
   "source": [
    "from math import ceil\n",
    "import sys \n",
    "\n",
    "def hash_no_order(key):\n",
    "    pos_or_neg = 1 if len(set(key)) % 2 == 0 else 0\n",
    "    return (sys.maxsize - sum([ord(k) for k in key]) ** (pos_or_neg * 6)) / len(key)\n",
    "\n",
    "def hash_order(key, ngram=2):\n",
    "    i, j = 0, ngram\n",
    "    hashed = 0\n",
    "    n_steps = ceil((len(key) / ngram))\n",
    "    hashed_key = hash_no_order(key)\n",
    "    \n",
    "    for n in range(1, n_steps + 1):\n",
    "        hashed += (hash_no_order(key[i:j]) * hashed_key)\n",
    "        i, j = n * ngram, (n + 1) * ngram\n",
    "    return hashed / n_steps\n",
    "\n",
    "# hash with order\n",
    "def radix128(key):\n",
    "    x = 0\n",
    "    for i in range(len(key)):\n",
    "        ascii_code = ord(key[i])\n",
    "        x = 128 * x + ascii_code\n",
    "    return x"
   ]
  },
  {
   "cell_type": "code",
   "execution_count": 285,
   "metadata": {},
   "outputs": [
    {
     "name": "stdout",
     "output_type": "stream",
     "text": [
      "-3.4977580394206426e+17\n",
      "-3.4977580394206426e+17\n",
      "-3.4977580394206426e+17\n",
      "4.611686018427388e+17\n",
      "866425317498053195921497434040904772587844\n",
      "866425317498053195921497434040904772587844\n",
      "866085035131132257458034059433473004376392\n",
      "866085019554241681853551173841984041881928\n",
      "-1.6130502518708257e+36\n",
      "-1.6130502518708257e+36\n",
      "-1.6130502776013225e+36\n",
      "2.126756534089396e+36\n"
     ]
    }
   ],
   "source": [
    "# check if hash functions are working...\n",
    "\n",
    "# hash_no_order\n",
    "print(hash_no_order('OHcv-/U3QI$rdqYTef\"D'))\n",
    "print(hash_no_order('OHcv-/U3QI$rdqYTef\"D'))\n",
    "print(hash_no_order('ODcv-/U3QI$rdqYTef\"H')) # order is different!\n",
    "print(hash_no_order('ODcs-/U3QI$rdqYTqf\"H')) # order and content are different!\n",
    "\n",
    "print(radix128('OHcv-/U3QI$rdqYTef\"D'))\n",
    "print(radix128('OHcv-/U3QI$rdqYTef\"D'))\n",
    "print(radix128('ODcv-/U3QI$rdqYTef\"H')) # order is different!\n",
    "print(radix128('ODcs-/U3QI$rdqYTqf\"H')) # order and content are different!\n",
    "\n",
    "# hash_order\n",
    "print(hash_order('OHcv-/U3QI$rdqYTef\"D'))\n",
    "print(hash_order('OHcv-/U3QI$rdqYTef\"D'))\n",
    "print(hash_order('ODcv-/U3QI$rdqYTef\"H')) # order is different!\n",
    "print(hash_order('ODcs-/U3QI$rdqYTqf\"H')) # order and content are different!"
   ]
  },
  {
   "cell_type": "code",
   "execution_count": 277,
   "metadata": {},
   "outputs": [],
   "source": [
    "def str_compare(str1, str2):\n",
    "    \n",
    "    # length has to be the same\n",
    "    if len(str1) != len(str2):\n",
    "        return False\n",
    "    \n",
    "    # convert to list of chars\n",
    "    str1_l, str2_l = list(str1), list(str2)\n",
    "    \n",
    "    # compare them!\n",
    "    for char in str1_l:\n",
    "        if not char in str2_l:\n",
    "            return False\n",
    "    return True"
   ]
  },
  {
   "cell_type": "code",
   "execution_count": 288,
   "metadata": {},
   "outputs": [
    {
     "name": "stdout",
     "output_type": "stream",
     "text": [
      "0\n",
      "0\n",
      "0\n",
      "0\n"
     ]
    },
    {
     "ename": "KeyboardInterrupt",
     "evalue": "",
     "output_type": "error",
     "traceback": [
      "\u001b[0;31m---------------------------------------------------------------------------\u001b[0m",
      "\u001b[0;31mKeyboardInterrupt\u001b[0m                         Traceback (most recent call last)",
      "\u001b[0;32m<ipython-input-288-7ce6d5680127>\u001b[0m in \u001b[0;36m<module>\u001b[0;34m\u001b[0m\n\u001b[1;32m     14\u001b[0m         \u001b[0mhash_p\u001b[0m \u001b[0;34m=\u001b[0m \u001b[0mradix128\u001b[0m\u001b[0;34m(\u001b[0m\u001b[0mp\u001b[0m\u001b[0;34m)\u001b[0m \u001b[0;31m# hash_no_order(p)\u001b[0m\u001b[0;34m\u001b[0m\u001b[0m\n\u001b[1;32m     15\u001b[0m \u001b[0;34m\u001b[0m\u001b[0m\n\u001b[0;32m---> 16\u001b[0;31m         \u001b[0;32mif\u001b[0m \u001b[0;32mnot\u001b[0m \u001b[0mhash_p\u001b[0m \u001b[0;32min\u001b[0m \u001b[0mpwd_store\u001b[0m\u001b[0;34m:\u001b[0m\u001b[0;34m\u001b[0m\u001b[0m\n\u001b[0m\u001b[1;32m     17\u001b[0m             \u001b[0mpwd_store\u001b[0m\u001b[0;34m.\u001b[0m\u001b[0mappend\u001b[0m\u001b[0;34m(\u001b[0m\u001b[0mhash_p\u001b[0m\u001b[0;34m)\u001b[0m\u001b[0;34m\u001b[0m\u001b[0m\n\u001b[1;32m     18\u001b[0m             \u001b[0mpwd_store_index\u001b[0m\u001b[0;34m.\u001b[0m\u001b[0mappend\u001b[0m\u001b[0;34m(\u001b[0m\u001b[0;34m(\u001b[0m\u001b[0mline\u001b[0m\u001b[0;34m,\u001b[0m \u001b[0mhash_p\u001b[0m\u001b[0;34m)\u001b[0m\u001b[0;34m)\u001b[0m\u001b[0;34m\u001b[0m\u001b[0m\n",
      "\u001b[0;31mKeyboardInterrupt\u001b[0m: "
     ]
    }
   ],
   "source": [
    "pwd_store = []\n",
    "pwd_store_index = []\n",
    "dupl_pwd_store = []\n",
    "\n",
    "with open('./data/passwords2.txt', 'r', encoding='utf8') as pwd:\n",
    "    # pwd = [\",laKwEj.4'iHoA=vxk*z\", \"$Lz3C,g<'d/kuc9IWMyb\", \"$Lz3C,g<'d/kuc9IWMyb\", 'r=tXf!vbMFZ\"+\\'YU7>x<', 'asd', 'dsa', 'r=tXf!vbMFZ\"+\\'YU7>x<', 'r=tXf!vbMFZ\"+\\'YU7>x<', 'sda']\n",
    "    for line, p in enumerate(pwd, start=1):\n",
    "\n",
    "        # exit\n",
    "        if (line % 100000) == 0:\n",
    "            print(len(dupl_pwd_store))\n",
    "        \n",
    "        p = p.strip().rstrip('\\n')\n",
    "        hash_p = radix128(p) # hash_no_order(p)\n",
    "        \n",
    "        if not hash_p in pwd_store:\n",
    "            pwd_store.append(hash_p)\n",
    "            pwd_store_index.append((line, hash_p))\n",
    "        else:\n",
    "            original_line_index = pwd_store.index(hash_p)\n",
    "            original_line = pwd_store_index[original_line_index][0]\n",
    "            dupl_pwd_store.append((line, original_line, p))"
   ]
  },
  {
   "cell_type": "code",
   "execution_count": 287,
   "metadata": {},
   "outputs": [
    {
     "name": "stdout",
     "output_type": "stream",
     "text": [
      "[(3, 2, \"$Lz3C,g<'d/kuc9IWMyb\"), (7, 4, 'r=tXf!vbMFZ\"+\\'YU7>x<'), (8, 4, 'r=tXf!vbMFZ\"+\\'YU7>x<')]\n",
      "3\n"
     ]
    }
   ],
   "source": [
    "print(dupl_pwd_store[:5])\n",
    "print(len(dupl_pwd_store))"
   ]
  },
  {
   "cell_type": "code",
   "execution_count": 275,
   "metadata": {},
   "outputs": [
    {
     "name": "stdout",
     "output_type": "stream",
     "text": [
      "False\n",
      "-9015868071136396893 == 3593777895480888323 => False\n",
      "-6.429216672046121e+16 == -6.429216672046121e+16 => True\n",
      "-2.9649456114194715e+35 == -2.9649454844571835e+35 => False\n"
     ]
    }
   ],
   "source": [
    "pwd1 = 'qp1tb#)mEA<vG(2k;40D'\n",
    "pwd2 = '$P3sZ(O)A&fwE4i6UDlS'\n",
    "pwd1_h_no = hash_no_order(pwd1)\n",
    "pwd2_h_no = hash_no_order(pwd2)\n",
    "pwd1_h_o = hash_order(pwd1)\n",
    "pwd2_h_o = hash_order(pwd2)\n",
    "pwd1_h = hash(pwd1)\n",
    "pwd2_h = hash(pwd2)\n",
    "\n",
    "print(str_compare(pwd1, pwd2))\n",
    "print(pwd1_h, '==', pwd2_h, '=>', pwd1_h == pwd2_h)\n",
    "print(pwd1_h_no, '==', pwd2_h_no, '=>', pwd1_h_no == pwd2_h_no)\n",
    "print(pwd1_h_o, '==', pwd2_h_o, '=>', pwd1_h_o == pwd2_h_o)"
   ]
  }
 ],
 "metadata": {
  "kernelspec": {
   "display_name": "Python 3",
   "language": "python",
   "name": "python3"
  },
  "language_info": {
   "codemirror_mode": {
    "name": "ipython",
    "version": 3
   },
   "file_extension": ".py",
   "mimetype": "text/x-python",
   "name": "python",
   "nbconvert_exporter": "python",
   "pygments_lexer": "ipython3",
   "version": "3.7.0"
  }
 },
 "nbformat": 4,
 "nbformat_minor": 2
}
