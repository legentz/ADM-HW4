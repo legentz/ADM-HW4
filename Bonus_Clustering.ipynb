{
 "cells": [
  {
   "cell_type": "markdown",
   "metadata": {},
   "source": [
    "During another course we created the following class to computer che KMeans clustering."
   ]
  },
  {
   "cell_type": "code",
   "execution_count": 1,
   "metadata": {},
   "outputs": [],
   "source": [
    "import numpy as np\n",
    "\n",
    "class KMeans:\n",
    "\n",
    "\tdef updateClusters(self):\n",
    "\t\tclus = {i : [] for i in range(self.k)}\n",
    "\t\tfor i in range(self.m):\n",
    "\t\t\tdist = np.sum((self.X[i] - self.centroids)**2, axis=1)\n",
    "\t\t\tclus[np.argmin(dist)] += [i]\n",
    "\t\tself.clustering = clus\n",
    "\n",
    "\tdef updateCentroids(self):\n",
    "\t\tfor i in range(self.k):\n",
    "\t\t\tself.centroids[i] = np.mean(self.X[self.clustering[i]], axis=0)\n",
    "\n",
    "\tdef __init__(self, X, k, max_itr=10):\n",
    "\t\tself.X, self.k = X, k\n",
    "\t\tself.m, self.d = X.shape\n",
    "\t\tself.centroids = X[np.random.choice(self.m, k, replace=False)]\n",
    "\t\tself.iter = 0\n",
    "\t\twhile True:\n",
    "\t\t\tself.updateClusters()\n",
    "\t\t\toldCentroids = self.centroids.copy()\n",
    "\t\t\tself.updateCentroids()\n",
    "\t\t\tself.iter += 1\n",
    "\t\t\tif (self.centroids == oldCentroids).all() or self.iter >= max_itr:\n",
    "\t\t\t\tbreak\n"
   ]
  }
 ],
 "metadata": {
  "kernelspec": {
   "display_name": "Python 3",
   "language": "python",
   "name": "python3"
  },
  "language_info": {
   "codemirror_mode": {
    "name": "ipython",
    "version": 3
   },
   "file_extension": ".py",
   "mimetype": "text/x-python",
   "name": "python",
   "nbconvert_exporter": "python",
   "pygments_lexer": "ipython3",
   "version": "3.7.0"
  }
 },
 "nbformat": 4,
 "nbformat_minor": 2
}
